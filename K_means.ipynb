{
 "cells": [
  {
   "cell_type": "code",
   "execution_count": 3,
   "id": "33f9efeb",
   "metadata": {},
   "outputs": [],
   "source": [
    "import pandas as pd\n",
    "from sklearn.cluster import KMeans"
   ]
  },
  {
   "cell_type": "code",
   "execution_count": 4,
   "id": "14c7c18f",
   "metadata": {},
   "outputs": [],
   "source": [
    "# Load the mtcars dataset\n",
    "mtcars = pd.read_csv('C:\\\\Users\\\\HP\\\\Desktop\\\\machine learning\\\\MOD 3 UNSUPERVISED LEARNING\\\\cars-1.csv')"
   ]
  },
  {
   "cell_type": "code",
   "execution_count": 5,
   "id": "82d38a59",
   "metadata": {},
   "outputs": [],
   "source": [
    "# Extract the desired columns\n",
    "car_features = mtcars[['mpg', 'disp', 'hp']]"
   ]
  },
  {
   "cell_type": "code",
   "execution_count": 6,
   "id": "f33a23fe",
   "metadata": {},
   "outputs": [
    {
     "name": "stderr",
     "output_type": "stream",
     "text": [
      "<ipython-input-6-02c2ca4c568d>:3: SettingWithCopyWarning: \n",
      "A value is trying to be set on a copy of a slice from a DataFrame.\n",
      "Try using .loc[row_indexer,col_indexer] = value instead\n",
      "\n",
      "See the caveats in the documentation: https://pandas.pydata.org/pandas-docs/stable/user_guide/indexing.html#returning-a-view-versus-a-copy\n",
      "  car_features['mpg'] = pd.to_numeric(car_features['mpg'], errors='coerce')\n",
      "<ipython-input-6-02c2ca4c568d>:4: SettingWithCopyWarning: \n",
      "A value is trying to be set on a copy of a slice from a DataFrame.\n",
      "Try using .loc[row_indexer,col_indexer] = value instead\n",
      "\n",
      "See the caveats in the documentation: https://pandas.pydata.org/pandas-docs/stable/user_guide/indexing.html#returning-a-view-versus-a-copy\n",
      "  car_features['disp'] = pd.to_numeric(car_features['disp'], errors='coerce')\n",
      "<ipython-input-6-02c2ca4c568d>:5: SettingWithCopyWarning: \n",
      "A value is trying to be set on a copy of a slice from a DataFrame.\n",
      "Try using .loc[row_indexer,col_indexer] = value instead\n",
      "\n",
      "See the caveats in the documentation: https://pandas.pydata.org/pandas-docs/stable/user_guide/indexing.html#returning-a-view-versus-a-copy\n",
      "  car_features['hp'] = pd.to_numeric(car_features['hp'], errors='coerce')\n"
     ]
    }
   ],
   "source": [
    "# Step 1b: Build K-Means with 3 clusters\n",
    "# Convert columns to numeric (ignore errors for non-numeric values)\n",
    "car_features['mpg'] = pd.to_numeric(car_features['mpg'], errors='coerce')\n",
    "car_features['disp'] = pd.to_numeric(car_features['disp'], errors='coerce')\n",
    "car_features['hp'] = pd.to_numeric(car_features['hp'], errors='coerce')\n",
    "\n",
    "# Remove rows with missing or non-numeric values\n",
    "car_features = car_features.dropna()\n",
    "\n",
    "# Now you can proceed with the K-Means clustering\n",
    "kmeans_3 = KMeans(n_clusters=3, random_state=42)\n",
    "car_features['cluster_3'] = kmeans_3.fit_predict(car_features[['mpg', 'disp', 'hp']])"
   ]
  },
  {
   "cell_type": "code",
   "execution_count": 7,
   "id": "a6eea76f",
   "metadata": {},
   "outputs": [],
   "source": [
    "# Step 1c: The clustering vector is already added in the previous step\n",
    "\n",
    "# Step 1d: Extract observations by cluster\n",
    "cluster_0 = car_features[car_features['cluster_3'] == 0]\n",
    "cluster_1 = car_features[car_features['cluster_3'] == 1]\n",
    "cluster_2 = car_features[car_features['cluster_3'] == 2]"
   ]
  },
  {
   "cell_type": "code",
   "execution_count": 8,
   "id": "90cd79a3",
   "metadata": {},
   "outputs": [],
   "source": [
    "# Step 2a: Build K-Means with 5 clusters\n",
    "kmeans_5 = KMeans(n_clusters=5, random_state=42)\n",
    "car_features['cluster_5'] = kmeans_5.fit_predict(car_features[['mpg', 'disp', 'hp']])"
   ]
  },
  {
   "cell_type": "code",
   "execution_count": 16,
   "id": "10aba727",
   "metadata": {},
   "outputs": [],
   "source": [
    "# Step 2b: The clustering vector is already added in the previous step\n",
    "\n",
    "# Step 2c: Extract observations by cluster\n",
    "cluster_0_1 = car_features[car_features['cluster_5'] == 0]\n",
    "cluster_0_2 = car_features[car_features['cluster_5'] == 1]\n",
    "cluster_0_3 = car_features[car_features['cluster_5'] == 2]\n",
    "cluster_0_4 = car_features[car_features['cluster_5'] == 3]\n",
    "cluster_0_5 = car_features[car_features['cluster_5'] == 4]"
   ]
  },
  {
   "cell_type": "code",
   "execution_count": 17,
   "id": "42c74fde",
   "metadata": {},
   "outputs": [],
   "source": [
    "import matplotlib.pyplot as plt"
   ]
  },
  {
   "cell_type": "code",
   "execution_count": 18,
   "id": "cfd16fdf",
   "metadata": {},
   "outputs": [
    {
     "data": {
      "image/png": "[encoded data removed]",
      "text/plain": [
       "<Figure size 432x288 with 1 Axes>"
      ]
     },
     "metadata": {
      "needs_background": "light"
     },
     "output_type": "display_data"
    }
   ],
   "source": [
    "# Visualization (Optional)\n",
    "plt.scatter(cluster_0['mpg'], cluster_0['disp'], label='Cluster 1')\n",
    "plt.scatter(cluster_1['mpg'], cluster_1['disp'], label='Cluster 2')\n",
    "plt.scatter(cluster_2['mpg'], cluster_2['disp'], label='Cluster 3')\n",
    "plt.xlabel('mpg')\n",
    "plt.ylabel('disp')\n",
    "plt.legend()\n",
    "plt.title('K-Means Clustering (3 Clusters)')\n",
    "plt.show()"
   ]
  },
  {
   "cell_type": "code",
   "execution_count": 19,
   "id": "1a462c4d",
   "metadata": {},
   "outputs": [
    {
     "data": {
      "image/png": "[encoded data removed]",
      "text/plain": [
       "<Figure size 432x288 with 1 Axes>"
      ]
     },
     "metadata": {
      "needs_background": "light"
     },
     "output_type": "display_data"
    }
   ],
   "source": [
    "plt.scatter(cluster_0_1['mpg'], cluster_0_1['disp'], label='Cluster 1')\n",
    "plt.scatter(cluster_0_2['mpg'], cluster_0_2['disp'], label='Cluster 2')\n",
    "plt.scatter(cluster_0_3['mpg'], cluster_0_3['disp'], label='Cluster 3')\n",
    "plt.scatter(cluster_0_4['mpg'], cluster_0_4['disp'], label='Cluster 4')\n",
    "plt.scatter(cluster_0_5['mpg'], cluster_0_5['disp'], label='Cluster 5')\n",
    "plt.xlabel('mpg')\n",
    "plt.ylabel('disp')\n",
    "plt.legend()\n",
    "plt.title('K-Means Clustering (5 Clusters)')\n",
    "plt.show()"
   ]
  },
  {
   "cell_type": "code",
   "execution_count": null,
   "id": "f96e9ece",
   "metadata": {},
   "outputs": [],
   "source": []
  },
  {
   "cell_type": "code",
   "execution_count": null,
   "id": "dce53928",
   "metadata": {},
   "outputs": [],
   "source": []
  },
  {
   "cell_type": "code",
   "execution_count": null,
   "id": "b2ddac3d",
   "metadata": {},
   "outputs": [],
   "source": []
  },
  {
   "cell_type": "code",
   "execution_count": null,
   "id": "160cbe82",
   "metadata": {},
   "outputs": [],
   "source": []
  },
  {
   "cell_type": "code",
   "execution_count": null,
   "id": "1c972b5b",
   "metadata": {},
   "outputs": [],
   "source": []
  },
  {
   "cell_type": "code",
   "execution_count": null,
   "id": "8309b840",
   "metadata": {},
   "outputs": [],
   "source": [
    "# Visualization (Optional)\n",
    "plt.scatter(cluster_1_data_3['mpg'], cluster_1_data_3['disp'], label='Cluster 1')\n",
    "plt.scatter(cluster_2_data_3['mpg'], cluster_2_data_3['disp'], label='Cluster 2')\n",
    "plt.scatter(cluster_3_data_3['mpg'], cluster_3_data_3['disp'], label='Cluster 3')\n",
    "plt.xlabel('mpg')\n",
    "plt.ylabel('disp')\n",
    "plt.legend()\n",
    "plt.title('K-Means Clustering (3 Clusters)')\n",
    "plt.show()\n",
    "\n",
    "plt.scatter(cluster_1_data_5['mpg'], cluster_1_data_5['disp'], label='Cluster 1')\n",
    "plt.scatter(cluster_2_data_5['mpg'], cluster_2_data_5['disp'], label='Cluster 2')\n",
    "plt.scatter(cluster_3_data_5['mpg'], cluster_3_data_5['disp'], label='Cluster 3')\n",
    "plt.scatter(cluster_4_data_5['mpg'], cluster_4_data_5['disp'], label='Cluster 4')\n",
    "plt.scatter(cluster_5_data_5['mpg'], cluster_5_data_5['disp'], label='Cluster 5')\n",
    "plt.xlabel('mpg')\n",
    "plt.ylabel('disp')\n",
    "plt.legend()\n",
    "plt.title('K-Means Clustering (5 Clusters)')\n",
    "plt.show()\n"
   ]
  }
 ],
 "metadata": {
  "kernelspec": {
   "display_name": "Python 3",
   "language": "python",
   "name": "python3"
  },
  "language_info": {
   "codemirror_mode": {
    "name": "ipython",
    "version": 3
   },
   "file_extension": ".py",
   "mimetype": "text/x-python",
   "name": "python",
   "nbconvert_exporter": "python",
   "pygments_lexer": "ipython3",
   "version": "3.8.8"
  }
 },
 "nbformat": 4,
 "nbformat_minor": 5
}
